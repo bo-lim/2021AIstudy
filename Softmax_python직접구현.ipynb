{
 "cells": [
  {
   "cell_type": "code",
   "execution_count": 5,
   "metadata": {},
   "outputs": [],
   "source": [
    "from keras.datasets import mnist\n",
    "(train_X, train_y), (test_X, test_y) = mnist.load_data()"
   ]
  },
  {
   "cell_type": "code",
   "execution_count": 11,
   "metadata": {},
   "outputs": [],
   "source": [
    "import matplotlib.pyplot as plt\n",
    "import numpy as np"
   ]
  },
  {
   "cell_type": "code",
   "execution_count": 8,
   "metadata": {},
   "outputs": [
    {
     "data": {
      "image/png": "[encoded data removed]",
      "text/plain": [
       "<Figure size 720x504 with 15 Axes>"
      ]
     },
     "metadata": {
      "needs_background": "light"
     },
     "output_type": "display_data"
    }
   ],
   "source": [
    "fig = plt.figure(figsize=(10,7))\n",
    "for i in range(15):  \n",
    "    ax = fig.add_subplot(3, 5, i+1)\n",
    "    ax.imshow(train_X[i], cmap=plt.get_cmap('gray'))\n",
    "    ax.set_title('Label (y): {y}'.format(y=train_y[i]))\n",
    "    plt.axis('off')"
   ]
  },
  {
   "cell_type": "code",
   "execution_count": 26,
   "metadata": {},
   "outputs": [],
   "source": [
    "X_train = train_X.reshape(-1,28*28)\n",
    "X_test = test_X.reshape(-1,28*28)"
   ]
  },
  {
   "cell_type": "code",
   "execution_count": 27,
   "metadata": {},
   "outputs": [
    {
     "data": {
      "text/plain": [
       "array([5, 0, 4, ..., 5, 6, 8], dtype=uint8)"
      ]
     },
     "execution_count": 27,
     "metadata": {},
     "output_type": "execute_result"
    }
   ],
   "source": [
    "train_y"
   ]
  },
  {
   "cell_type": "code",
   "execution_count": 28,
   "metadata": {},
   "outputs": [
    {
     "name": "stdout",
     "output_type": "stream",
     "text": [
      "one-hot encoding:\n",
      " [[0. 0. 0. ... 0. 0. 0.]\n",
      " [1. 0. 0. ... 0. 0. 0.]\n",
      " [0. 0. 0. ... 0. 0. 0.]\n",
      " ...\n",
      " [0. 0. 0. ... 0. 0. 0.]\n",
      " [0. 0. 0. ... 0. 0. 0.]\n",
      " [0. 0. 0. ... 0. 1. 0.]]\n"
     ]
    }
   ],
   "source": [
    "y_enc = (np.arange(np.max(train_y) + 1) == train_y[:, None]).astype(float)\n",
    "\n",
    "print('one-hot encoding:\\n', y_enc)"
   ]
  },
  {
   "cell_type": "code",
   "execution_count": 29,
   "metadata": {},
   "outputs": [],
   "source": [
    "def softmax(z):\n",
    "    return (np.exp(z.T) / np.sum(np.exp(z), axis=1)).T"
   ]
  },
  {
   "cell_type": "code",
   "execution_count": 31,
   "metadata": {},
   "outputs": [],
   "source": [
    "def cross_entropy(output, y_target):\n",
    "    return - np.sum(np.log(output) * (y_target), axis=1)"
   ]
  },
  {
   "cell_type": "code",
   "execution_count": 43,
   "metadata": {},
   "outputs": [],
   "source": [
    "def fit(X, y, lr, c, epochs):\n",
    "    m, n = X.shape\n",
    "    w = np.random.random((n, c))\n",
    "    b = np.random.random(c)\n",
    "    losses = []\n",
    "    \n",
    "    # Loop\n",
    "    for epoch in range(epochs):\n",
    "        \n",
    "        z = X@w + b\n",
    "        prediction = softmax(z)\n",
    "        # 원핫 인코딩\n",
    "        y_hot = (np.arange(np.max(y) + 1) == train_y[:, None]).astype(float)\n",
    "        \n",
    "        # 그래디언트 계산\n",
    "        w_grad = (1/m)*np.dot(X.T, (prediction - y_hot)) \n",
    "        b_grad = (1/m)*np.sum(prediction - y_hot)\n",
    "        \n",
    "        # 업데이트\n",
    "        w = w - lr*w_grad\n",
    "        b = b - lr*b_grad\n",
    "        \n",
    "        # loss계산\n",
    "        # y = y.flatten()\n",
    "        # loss = crossentropy(prediction, y)\n",
    "        loss = -np.mean(np.log(prediction[np.arange(len(y)), y]))\n",
    "        losses.append(loss)\n",
    "        \n",
    "        \n",
    "        if epoch%100==0:\n",
    "            print('Epoch {epoch}==> Loss = {loss}'\n",
    "                  .format(epoch=epoch, loss=loss))\n",
    "    return w, b, losses"
   ]
  },
  {
   "cell_type": "code",
   "execution_count": 33,
   "metadata": {},
   "outputs": [],
   "source": [
    "X_train = X_train/255"
   ]
  },
  {
   "cell_type": "code",
   "execution_count": 44,
   "metadata": {},
   "outputs": [
    {
     "name": "stdout",
     "output_type": "stream",
     "text": [
      "Epoch 0==> Loss = 5.344381872685891\n",
      "Epoch 100==> Loss = 0.46986175020834436\n",
      "Epoch 200==> Loss = 0.39962929246450196\n",
      "Epoch 300==> Loss = 0.3693101396941341\n",
      "Epoch 400==> Loss = 0.3512915843819237\n",
      "Epoch 500==> Loss = 0.3389886443094206\n",
      "Epoch 600==> Loss = 0.3298913685357846\n",
      "Epoch 700==> Loss = 0.3228009211463076\n",
      "Epoch 800==> Loss = 0.3170630521690766\n",
      "Epoch 900==> Loss = 0.3122872887244031\n",
      "Epoch 1000==> Loss = 0.3082247967765927\n",
      "Epoch 1100==> Loss = 0.30470873344438637\n",
      "Epoch 1200==> Loss = 0.30162256299422835\n",
      "Epoch 1300==> Loss = 0.29888210200258675\n",
      "Epoch 1400==> Loss = 0.2964248008426552\n",
      "Epoch 1500==> Loss = 0.2942030620303916\n",
      "Epoch 1600==> Loss = 0.2921799189253931\n",
      "Epoch 1700==> Loss = 0.29032615073744594\n",
      "Epoch 1800==> Loss = 0.288618302263229\n",
      "Epoch 1900==> Loss = 0.28703729104215286\n"
     ]
    }
   ],
   "source": [
    "w, b, loss = fit(X_train,train_y,lr=0.5, c=10, epochs=2000)"
   ]
  },
  {
   "cell_type": "code",
   "execution_count": 45,
   "metadata": {},
   "outputs": [],
   "source": [
    "def predict(X,w,b):\n",
    "    z = X@w + b\n",
    "    prediction = softmax(z)\n",
    "    return np.argmax(prediction, axis=1)"
   ]
  },
  {
   "cell_type": "code",
   "execution_count": 46,
   "metadata": {},
   "outputs": [],
   "source": [
    "def acc(y,prediction):\n",
    "    return np.sum(y==prediction)/len(y)"
   ]
  },
  {
   "cell_type": "code",
   "execution_count": 47,
   "metadata": {},
   "outputs": [
    {
     "data": {
      "text/plain": [
       "0.9209666666666667"
      ]
     },
     "execution_count": 47,
     "metadata": {},
     "output_type": "execute_result"
    }
   ],
   "source": [
    "train_preds = predict(X_train, w, b)\n",
    "acc(train_y, train_preds)"
   ]
  },
  {
   "cell_type": "code",
   "execution_count": 48,
   "metadata": {},
   "outputs": [
    {
     "data": {
      "text/plain": [
       "0.9191"
      ]
     },
     "execution_count": 48,
     "metadata": {},
     "output_type": "execute_result"
    }
   ],
   "source": [
    "X_test = test_X.reshape(-1,28*28)\n",
    "X_test= X_test/255\n",
    "test_preds = predict(X_test,w,b)\n",
    "acc(test_y,test_preds)"
   ]
  },
  {
   "cell_type": "code",
   "execution_count": null,
   "metadata": {},
   "outputs": [],
   "source": []
  }
 ],
 "metadata": {
  "kernelspec": {
   "display_name": "Python 3",
   "language": "python",
   "name": "python3"
  },
  "language_info": {
   "codemirror_mode": {
    "name": "ipython",
    "version": 3
   },
   "file_extension": ".py",
   "mimetype": "text/x-python",
   "name": "python",
   "nbconvert_exporter": "python",
   "pygments_lexer": "ipython3",
   "version": "3.8.5"
  }
 },
 "nbformat": 4,
 "nbformat_minor": 4
}
